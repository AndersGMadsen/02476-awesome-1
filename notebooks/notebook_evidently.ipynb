{
 "cells": [
  {
   "cell_type": "code",
   "execution_count": 1,
   "metadata": {},
   "outputs": [],
   "source": [
    "import pandas as pd\n",
    "\n",
    "from sklearn import datasets\n",
    "\n",
    "from evidently.test_suite import TestSuite\n",
    "from evidently.test_preset import DataStabilityTestPreset\n",
    "from evidently.test_preset import DataQualityTestPreset\n",
    "\n",
    "from evidently.report import Report\n",
    "from evidently.metric_preset import DataDriftPreset\n",
    "\n",
    "iris_data = datasets.load_iris(as_frame='auto')\n",
    "iris_frame = iris_data.frame"
   ]
  },
  {
   "cell_type": "code",
   "execution_count": 2,
   "metadata": {},
   "outputs": [
    {
     "name": "stderr",
     "output_type": "stream",
     "text": [
      "/home/williamtheodor/anaconda3/envs/awesome/lib/python3.10/site-packages/evidently/metrics/data_integrity/dataset_missing_values_metric.py:147: FutureWarning: elementwise comparison failed; returning scalar instead, but in the future will perform elementwise comparison\n",
      "  elif missing_value in row.values:\n"
     ]
    }
   ],
   "source": [
    "data_stability= TestSuite(tests=[\n",
    "    DataStabilityTestPreset(),\n",
    "])\n",
    "data_stability.run(current_data=iris_frame.iloc[:90], reference_data=iris_frame.iloc[90:], column_mapping=None)\n",
    "data_stability.save_html(\"iris_stability.html\")"
   ]
  },
  {
   "cell_type": "code",
   "execution_count": 3,
   "metadata": {},
   "outputs": [
    {
     "name": "stderr",
     "output_type": "stream",
     "text": [
      "/home/williamtheodor/anaconda3/envs/awesome/lib/python3.10/site-packages/scipy/stats/_stats_py.py:7412: RuntimeWarning:\n",
      "\n",
      "divide by zero encountered in divide\n",
      "\n",
      "/home/williamtheodor/anaconda3/envs/awesome/lib/python3.10/site-packages/scipy/stats/_stats_py.py:7412: RuntimeWarning:\n",
      "\n",
      "divide by zero encountered in divide\n",
      "\n"
     ]
    }
   ],
   "source": [
    "data_drift_report = Report(metrics=[\n",
    "    DataDriftPreset(),\n",
    "])\n",
    "\n",
    "data_drift_report.run(current_data=iris_frame.iloc[:90], reference_data=iris_frame.iloc[90:], column_mapping=None)\n",
    "data_drift_report.save_html(\"iris_report.html\")"
   ]
  },
  {
   "cell_type": "code",
   "execution_count": 4,
   "metadata": {},
   "outputs": [],
   "source": [
    "import torch\n",
    "from torch import nn\n",
    "from torch.utils.data import DataLoader\n",
    "\n",
    "from src.data.dataset import BCSSDataset"
   ]
  },
  {
   "cell_type": "code",
   "execution_count": 6,
   "metadata": {},
   "outputs": [],
   "source": [
    "dir = '../data/processed/'\n",
    "\n",
    "train_data = BCSSDataset(root_dir=dir, key=\"train\")\n",
    "train_loader = DataLoader(dataset=train_data, batch_size=8, shuffle=True, num_workers=6)\n",
    "images, masks = next(iter(train_loader))\n",
    "ref_images, ref_masks = next(iter(train_loader))"
   ]
  },
  {
   "cell_type": "code",
   "execution_count": 9,
   "metadata": {},
   "outputs": [
    {
     "data": {
      "text/plain": [
       "torch.Size([8, 3, 512, 512])"
      ]
     },
     "execution_count": 9,
     "metadata": {},
     "output_type": "execute_result"
    }
   ],
   "source": [
    "images.shape"
   ]
  },
  {
   "cell_type": "code",
   "execution_count": 7,
   "metadata": {},
   "outputs": [
    {
     "ename": "RuntimeError",
     "evalue": "Tensor.__contains__ only supports Tensor or scalar, but you passed in a <class 'str'>.",
     "output_type": "error",
     "traceback": [
      "\u001b[0;31m---------------------------------------------------------------------------\u001b[0m",
      "\u001b[0;31mRuntimeError\u001b[0m                              Traceback (most recent call last)",
      "Cell \u001b[0;32mIn[7], line 1\u001b[0m\n\u001b[0;32m----> 1\u001b[0m data_drift_report\u001b[39m.\u001b[39;49mrun(current_data\u001b[39m=\u001b[39;49mimages, reference_data\u001b[39m=\u001b[39;49mref_images, column_mapping\u001b[39m=\u001b[39;49m\u001b[39mNone\u001b[39;49;00m)\n",
      "File \u001b[0;32m~/anaconda3/envs/awesome/lib/python3.10/site-packages/evidently/report/report.py:52\u001b[0m, in \u001b[0;36mReport.run\u001b[0;34m(self, reference_data, current_data, column_mapping)\u001b[0m\n\u001b[1;32m     49\u001b[0m \u001b[39mif\u001b[39;00m current_data \u001b[39mis\u001b[39;00m \u001b[39mNone\u001b[39;00m:\n\u001b[1;32m     50\u001b[0m     \u001b[39mraise\u001b[39;00m \u001b[39mValueError\u001b[39;00m(\u001b[39m\"\u001b[39m\u001b[39mCurrent dataset should be present\u001b[39m\u001b[39m\"\u001b[39m)\n\u001b[0;32m---> 52\u001b[0m \u001b[39mself\u001b[39m\u001b[39m.\u001b[39m_columns_info \u001b[39m=\u001b[39m process_columns(current_data, column_mapping)\n\u001b[1;32m     53\u001b[0m data_definition \u001b[39m=\u001b[39m create_data_definition(reference_data, current_data, column_mapping)\n\u001b[1;32m     54\u001b[0m data \u001b[39m=\u001b[39m InputData(reference_data, current_data, column_mapping, data_definition)\n",
      "File \u001b[0;32m~/anaconda3/envs/awesome/lib/python3.10/site-packages/evidently/utils/data_operations.py:114\u001b[0m, in \u001b[0;36mprocess_columns\u001b[0;34m(dataset, column_mapping)\u001b[0m\n\u001b[1;32m    111\u001b[0m \u001b[39mif\u001b[39;00m column_mapping \u001b[39mis\u001b[39;00m \u001b[39mNone\u001b[39;00m:\n\u001b[1;32m    112\u001b[0m     \u001b[39m# data mapping should not be empty in this step\u001b[39;00m\n\u001b[1;32m    113\u001b[0m     \u001b[39mraise\u001b[39;00m \u001b[39mValueError\u001b[39;00m(\u001b[39m\"\u001b[39m\u001b[39mcolumn_mapping should be present\u001b[39m\u001b[39m\"\u001b[39m)\n\u001b[0;32m--> 114\u001b[0m date_column \u001b[39m=\u001b[39m column_mapping\u001b[39m.\u001b[39mdatetime \u001b[39mif\u001b[39;00m column_mapping\u001b[39m.\u001b[39;49mdatetime \u001b[39min\u001b[39;49;00m dataset \u001b[39melse\u001b[39;00m \u001b[39mNone\u001b[39;00m\n\u001b[1;32m    115\u001b[0m \u001b[39m# index column name\u001b[39;00m\n\u001b[1;32m    116\u001b[0m id_column \u001b[39m=\u001b[39m column_mapping\u001b[39m.\u001b[39mid\n",
      "File \u001b[0;32m~/anaconda3/envs/awesome/lib/python3.10/site-packages/torch/_tensor.py:985\u001b[0m, in \u001b[0;36mTensor.__contains__\u001b[0;34m(self, element)\u001b[0m\n\u001b[1;32m    981\u001b[0m \u001b[39mif\u001b[39;00m \u001b[39misinstance\u001b[39m(element, (torch\u001b[39m.\u001b[39mTensor, Number)):\n\u001b[1;32m    982\u001b[0m     \u001b[39m# type hint doesn't understand the __contains__ result array\u001b[39;00m\n\u001b[1;32m    983\u001b[0m     \u001b[39mreturn\u001b[39;00m (element \u001b[39m==\u001b[39m \u001b[39mself\u001b[39m)\u001b[39m.\u001b[39many()\u001b[39m.\u001b[39mitem()  \u001b[39m# type: ignore[union-attr]\u001b[39;00m\n\u001b[0;32m--> 985\u001b[0m \u001b[39mraise\u001b[39;00m \u001b[39mRuntimeError\u001b[39;00m(\n\u001b[1;32m    986\u001b[0m     \u001b[39m\"\u001b[39m\u001b[39mTensor.__contains__ only supports Tensor or scalar, but you passed in a \u001b[39m\u001b[39m%s\u001b[39;00m\u001b[39m.\u001b[39m\u001b[39m\"\u001b[39m\n\u001b[1;32m    987\u001b[0m     \u001b[39m%\u001b[39m \u001b[39mtype\u001b[39m(element)\n\u001b[1;32m    988\u001b[0m )\n",
      "\u001b[0;31mRuntimeError\u001b[0m: Tensor.__contains__ only supports Tensor or scalar, but you passed in a <class 'str'>."
     ]
    }
   ],
   "source": [
    "data_drift_report.run(current_data=images, reference_data=ref_images, column_mapping=None)"
   ]
  },
  {
   "cell_type": "code",
   "execution_count": null,
   "metadata": {},
   "outputs": [],
   "source": []
  },
  {
   "cell_type": "code",
   "execution_count": null,
   "metadata": {},
   "outputs": [],
   "source": [
    "train_data = BCSSDataset(root_dir=dir, key=\"train\")\n",
    "train_loader = DataLoader(dataset=train_data, batch_size=8, shuffle=True, num_workers=6)\n",
    "\n",
    "test_data = BCSSDataset(root_dir=dir, key=\"train\")\n",
    "test_loader = DataLoader(dataset=test_data, batch_size=8, shuffle=True, num_workers=6)"
   ]
  },
  {
   "cell_type": "code",
   "execution_count": 13,
   "metadata": {},
   "outputs": [
    {
     "ename": "ModuleNotFoundError",
     "evalue": "No module named 'ignite'",
     "output_type": "error",
     "traceback": [
      "\u001b[0;31m---------------------------------------------------------------------------\u001b[0m",
      "\u001b[0;31mModuleNotFoundError\u001b[0m                       Traceback (most recent call last)",
      "Cell \u001b[0;32mIn[13], line 4\u001b[0m\n\u001b[1;32m      1\u001b[0m \u001b[39m# for installing deepchecks including the computer vision subpackage (note - Pytorch should be installed separately):\u001b[39;00m\n\u001b[1;32m      2\u001b[0m \u001b[39m# pip install \"deepcheck[vision]\" --upgrade\u001b[39;00m\n\u001b[0;32m----> 4\u001b[0m \u001b[39mfrom\u001b[39;00m \u001b[39mdeepchecks\u001b[39;00m\u001b[39m.\u001b[39;00m\u001b[39mvision\u001b[39;00m \u001b[39mimport\u001b[39;00m VisionData\n\u001b[1;32m      5\u001b[0m \u001b[39mfrom\u001b[39;00m \u001b[39mdeepchecks\u001b[39;00m\u001b[39m.\u001b[39;00m\u001b[39mvision\u001b[39;00m\u001b[39m.\u001b[39;00m\u001b[39mutils\u001b[39;00m\u001b[39m.\u001b[39;00m\u001b[39mdetection_formatters\u001b[39;00m \u001b[39mimport\u001b[39;00m DetectionLabelFormatter, DetectionPredictionFormatter\n\u001b[1;32m      6\u001b[0m label_formatter \u001b[39m=\u001b[39m DetectionPredictionFormatter(prediction_formatter_func)\n",
      "File \u001b[0;32m~/anaconda3/envs/awesome/lib/python3.10/site-packages/deepchecks/vision/__init__.py:12\u001b[0m\n\u001b[1;32m      1\u001b[0m \u001b[39m# ----------------------------------------------------------------------------\u001b[39;00m\n\u001b[1;32m      2\u001b[0m \u001b[39m# Copyright (C) 2021-2022 Deepchecks (https://www.deepchecks.com)\u001b[39;00m\n\u001b[1;32m      3\u001b[0m \u001b[39m#\u001b[39;00m\n\u001b[0;32m   (...)\u001b[0m\n\u001b[1;32m      9\u001b[0m \u001b[39m# ----------------------------------------------------------------------------\u001b[39;00m\n\u001b[1;32m     10\u001b[0m \u001b[39m#\u001b[39;00m\n\u001b[1;32m     11\u001b[0m \u001b[39m\"\"\"Package for vision functionality.\"\"\"\u001b[39;00m\n\u001b[0;32m---> 12\u001b[0m \u001b[39mfrom\u001b[39;00m \u001b[39m.\u001b[39;00m\u001b[39mbase_checks\u001b[39;00m \u001b[39mimport\u001b[39;00m ModelOnlyCheck, SingleDatasetCheck, TrainTestCheck\n\u001b[1;32m     13\u001b[0m \u001b[39mfrom\u001b[39;00m \u001b[39m.\u001b[39;00m\u001b[39mbatch_wrapper\u001b[39;00m \u001b[39mimport\u001b[39;00m Batch\n\u001b[1;32m     14\u001b[0m \u001b[39mfrom\u001b[39;00m \u001b[39m.\u001b[39;00m\u001b[39mclassification_data\u001b[39;00m \u001b[39mimport\u001b[39;00m ClassificationData\n",
      "File \u001b[0;32m~/anaconda3/envs/awesome/lib/python3.10/site-packages/deepchecks/vision/base_checks.py:16\u001b[0m\n\u001b[1;32m     13\u001b[0m \u001b[39mfrom\u001b[39;00m \u001b[39mtyping\u001b[39;00m \u001b[39mimport\u001b[39;00m Any, Dict, Mapping, Optional, Sequence, Union\n\u001b[1;32m     15\u001b[0m \u001b[39mimport\u001b[39;00m \u001b[39mtorch\u001b[39;00m\n\u001b[0;32m---> 16\u001b[0m \u001b[39mfrom\u001b[39;00m \u001b[39mignite\u001b[39;00m\u001b[39m.\u001b[39;00m\u001b[39mmetrics\u001b[39;00m \u001b[39mimport\u001b[39;00m Metric\n\u001b[1;32m     17\u001b[0m \u001b[39mfrom\u001b[39;00m \u001b[39mtorch\u001b[39;00m \u001b[39mimport\u001b[39;00m nn\n\u001b[1;32m     19\u001b[0m \u001b[39mfrom\u001b[39;00m \u001b[39mdeepchecks\u001b[39;00m\u001b[39m.\u001b[39;00m\u001b[39mcore\u001b[39;00m\u001b[39m.\u001b[39;00m\u001b[39mcheck_result\u001b[39;00m \u001b[39mimport\u001b[39;00m CheckResult\n",
      "\u001b[0;31mModuleNotFoundError\u001b[0m: No module named 'ignite'"
     ]
    }
   ],
   "source": [
    "# for installing deepchecks including the computer vision subpackage (note - Pytorch should be installed separately):\n",
    "# pip install \"deepcheck[vision]\" --upgrade\n",
    "\n",
    "from deepchecks.vision import VisionData\n",
    "from deepchecks.vision.utils.detection_formatters import DetectionLabelFormatter, DetectionPredictionFormatter\n",
    "label_formatter = DetectionPredictionFormatter(prediction_formatter_func)\n",
    "\n",
    "ds_train = VisionData(train_loader, label_formatter = label_formatter)\n",
    "ds_test = VisionData(test_loader, label_formatter = label_formatter)\n",
    "\n",
    "\n",
    "from robustness_check import RobustnessReport\n",
    "\n",
    "check = RobustnessReport(prediction_extract = prediction_formatter)\n",
    "check.run(ds_test, model)"
   ]
  }
 ],
 "metadata": {
  "kernelspec": {
   "display_name": "awesome",
   "language": "python",
   "name": "python3"
  },
  "language_info": {
   "codemirror_mode": {
    "name": "ipython",
    "version": 3
   },
   "file_extension": ".py",
   "mimetype": "text/x-python",
   "name": "python",
   "nbconvert_exporter": "python",
   "pygments_lexer": "ipython3",
   "version": "3.10.8 (main, Nov 24 2022, 14:13:03) [GCC 11.2.0]"
  },
  "orig_nbformat": 4,
  "vscode": {
   "interpreter": {
    "hash": "cc2d3b61f1e9e23e3b2650d02a265826715832c8045a8807a8a04cd462939354"
   }
  }
 },
 "nbformat": 4,
 "nbformat_minor": 2
}

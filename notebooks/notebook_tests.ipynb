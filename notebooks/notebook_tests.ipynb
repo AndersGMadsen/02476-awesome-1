{
 "cells": [
  {
   "cell_type": "code",
   "execution_count": 1,
   "metadata": {},
   "outputs": [],
   "source": [
    "import torch as nn\n",
    "from torchvision import transforms\n",
    "from tests import _PATH_DATA\n",
    "import torchvision\n",
    "from torchvision import transforms\n",
    "from os import path, listdir\n",
    "import numpy as np\n",
    "import pytest"
   ]
  },
  {
   "cell_type": "code",
   "execution_count": 2,
   "metadata": {},
   "outputs": [],
   "source": [
    "def split_data(dir):\n",
    "\n",
    "    idx_dict = {\n",
    "        'train': [\n",
    "            34, 101, 114, 82, 123, 57, 22, 15, 137, 83, 99, 72, 47,\n",
    "            36, 96, 46, 120, 60, 19, 79, 58, 134, 39, 102, 126, 94,\n",
    "            7, 106, 2, 40, 70, 52, 104, 12, 119, 76, 108, 90, 147,\n",
    "            143, 43, 140, 142, 88, 93, 4, 51, 16, 121, 74, 64, 77,\n",
    "            98, 107, 56, 13, 92, 3, 141, 136, 146, 78, 91, 35, 124,\n",
    "            63, 130, 84, 17, 80, 25, 118, 6, 113, 117, 67, 100, 54,\n",
    "            103, 95, 37, 23, 32, 30, 42, 144, 75, 38, 50, 31, 66,\n",
    "            131, 68, 97, 85, 44, 69, 33, 5, 138, 49, 14, 128, 24,\n",
    "            11, 89, 135, 10, 29, 116, 65, 18, 125, 20, 26, 111, 73,\n",
    "            48, 59, 139],\n",
    "        'validation': [86, 21, 55, 61, 45, 81, 105, 149, 27, 132, 28, 129, 1, 53, 133],\n",
    "        'test': [115, 109, 87, 112, 8, 9, 122, 41, 148, 110, 145, 71, 150, 127, 0, 62]\n",
    "    }\n",
    "\n",
    "    image_dir = dir+'/images'\n",
    "    mask_dir = dir+'/masks'\n",
    "\n",
    "    image_names = sorted([image for image in listdir(image_dir) if image.endswith('.png')])\n",
    "    \n",
    "    train_names = [image_names[idx] for idx in idx_dict['train']]\n",
    "    validation_names = [image_names[idx] for idx in idx_dict['validation']]\n",
    "    test_names = [image_names[idx] for idx in idx_dict['test']]\n",
    "\n",
    "    name_dict = {'train': train_names, 'validation': validation_names, 'test': test_names}\n",
    "\n",
    "    return name_dict"
   ]
  },
  {
   "cell_type": "code",
   "execution_count": 3,
   "metadata": {},
   "outputs": [],
   "source": [
    "raw_dir = '../data/raw'\n",
    "name_dict = split_data(raw_dir)"
   ]
  },
  {
   "cell_type": "code",
   "execution_count": 4,
   "metadata": {},
   "outputs": [
    {
     "name": "stdout",
     "output_type": "stream",
     "text": [
      "TCGA-A8-A09X-DX1_xmin55379_ymin38394_MPP-0.2500.png\n",
      "TCGA-D8-A27H-DX1_xmin8738_ymin8063_MPP-0.2500.png\n",
      "TCGA-E2-A1LK-DX1_xmin75611_ymin27593_MPP-0.2500.png\n",
      "TCGA-BH-A1FC-DX1_xmin52216_ymin33355_MPP-0.2500.png\n",
      "TCGA-EW-A1P4-DX1_xmin17256_ymin35430_MPP-0.2500.png\n",
      "TCGA-AR-A0TU-DX1_xmin88352_ymin23098_MPP-0.2500.png\n",
      "TCGA-A7-A26F-DX1_xmin72969_ymin11489_MPP-0.2500.png\n",
      "TCGA-A2-A3XS-DX1_xmin21421_ymin37486_MPP-0.2500.png\n",
      "TCGA-HN-A2NL-DX1_xmin11931_ymin5764_MPP-0.2500.png\n",
      "TCGA-BH-A42U-DX1_xmin72053_ymin88645_MPP-0.2500.png\n",
      "TCGA-D8-A1XQ-DX1_xmin61261_ymin33317_MPP-0.2500.png\n",
      "TCGA-BH-A0BL-DX1_xmin25219_ymin42847_MPP-0.2500.png\n",
      "TCGA-AO-A0J4-DX1_xmin17194_ymin10629_MPP-0.2500.png\n",
      "TCGA-AC-A2QH-DX1_xmin42173_ymin16859_MPP-0.2500.png\n"
     ]
    },
    {
     "ename": "KeyboardInterrupt",
     "evalue": "",
     "output_type": "error",
     "traceback": [
      "\u001b[0;31m---------------------------------------------------------------------------\u001b[0m",
      "\u001b[0;31mKeyboardInterrupt\u001b[0m                         Traceback (most recent call last)",
      "Cell \u001b[0;32mIn[4], line 5\u001b[0m\n\u001b[1;32m      3\u001b[0m \u001b[39mfor\u001b[39;00m idx, name \u001b[39min\u001b[39;00m \u001b[39menumerate\u001b[39m(name_dict[\u001b[39m'\u001b[39m\u001b[39mtrain\u001b[39m\u001b[39m'\u001b[39m]):\n\u001b[1;32m      4\u001b[0m     \u001b[39mprint\u001b[39m(name)\n\u001b[0;32m----> 5\u001b[0m     train_data \u001b[39m=\u001b[39m np\u001b[39m.\u001b[39mappend(train_data, nn\u001b[39m.\u001b[39mmoveaxis(torchvision\u001b[39m.\u001b[39;49mio\u001b[39m.\u001b[39;49mread_image(raw_dir\u001b[39m+\u001b[39;49m\u001b[39m'\u001b[39;49m\u001b[39m/images/\u001b[39;49m\u001b[39m'\u001b[39;49m\u001b[39m+\u001b[39;49mname), \u001b[39m0\u001b[39m, \u001b[39m-\u001b[39m\u001b[39m1\u001b[39m))\n",
      "File \u001b[0;32m~/anaconda3/envs/awesome/lib/python3.10/site-packages/torchvision/io/image.py:254\u001b[0m, in \u001b[0;36mread_image\u001b[0;34m(path, mode)\u001b[0m\n\u001b[1;32m    252\u001b[0m     _log_api_usage_once(read_image)\n\u001b[1;32m    253\u001b[0m data \u001b[39m=\u001b[39m read_file(path)\n\u001b[0;32m--> 254\u001b[0m \u001b[39mreturn\u001b[39;00m decode_image(data, mode)\n",
      "File \u001b[0;32m~/anaconda3/envs/awesome/lib/python3.10/site-packages/torchvision/io/image.py:231\u001b[0m, in \u001b[0;36mdecode_image\u001b[0;34m(input, mode)\u001b[0m\n\u001b[1;32m    229\u001b[0m \u001b[39mif\u001b[39;00m \u001b[39mnot\u001b[39;00m torch\u001b[39m.\u001b[39mjit\u001b[39m.\u001b[39mis_scripting() \u001b[39mand\u001b[39;00m \u001b[39mnot\u001b[39;00m torch\u001b[39m.\u001b[39mjit\u001b[39m.\u001b[39mis_tracing():\n\u001b[1;32m    230\u001b[0m     _log_api_usage_once(decode_image)\n\u001b[0;32m--> 231\u001b[0m output \u001b[39m=\u001b[39m torch\u001b[39m.\u001b[39;49mops\u001b[39m.\u001b[39;49mimage\u001b[39m.\u001b[39;49mdecode_image(\u001b[39minput\u001b[39;49m, mode\u001b[39m.\u001b[39;49mvalue)\n\u001b[1;32m    232\u001b[0m \u001b[39mreturn\u001b[39;00m output\n",
      "File \u001b[0;32m~/anaconda3/envs/awesome/lib/python3.10/site-packages/torch/_ops.py:442\u001b[0m, in \u001b[0;36mOpOverloadPacket.__call__\u001b[0;34m(self, *args, **kwargs)\u001b[0m\n\u001b[1;32m    437\u001b[0m \u001b[39mdef\u001b[39;00m \u001b[39m__call__\u001b[39m(\u001b[39mself\u001b[39m, \u001b[39m*\u001b[39margs, \u001b[39m*\u001b[39m\u001b[39m*\u001b[39mkwargs):\n\u001b[1;32m    438\u001b[0m     \u001b[39m# overloading __call__ to ensure torch.ops.foo.bar()\u001b[39;00m\n\u001b[1;32m    439\u001b[0m     \u001b[39m# is still callable from JIT\u001b[39;00m\n\u001b[1;32m    440\u001b[0m     \u001b[39m# We save the function ptr as the `op` attribute on\u001b[39;00m\n\u001b[1;32m    441\u001b[0m     \u001b[39m# OpOverloadPacket to access it here.\u001b[39;00m\n\u001b[0;32m--> 442\u001b[0m     \u001b[39mreturn\u001b[39;00m \u001b[39mself\u001b[39;49m\u001b[39m.\u001b[39;49m_op(\u001b[39m*\u001b[39;49margs, \u001b[39m*\u001b[39;49m\u001b[39m*\u001b[39;49mkwargs \u001b[39mor\u001b[39;49;00m {})\n",
      "\u001b[0;31mKeyboardInterrupt\u001b[0m: "
     ]
    }
   ],
   "source": [
    "train_data = np.array([])\n",
    "\n",
    "for idx, name in enumerate(name_dict['train']):\n",
    "    print(idx, name)\n",
    "    train_data = np.append(train_data, nn.moveaxis(torchvision.io.read_image(raw_dir+'/images/'+name), 0, -1))"
   ]
  },
  {
   "cell_type": "code",
   "execution_count": null,
   "metadata": {},
   "outputs": [],
   "source": []
  }
 ],
 "metadata": {
  "kernelspec": {
   "display_name": "awesome",
   "language": "python",
   "name": "python3"
  },
  "language_info": {
   "codemirror_mode": {
    "name": "ipython",
    "version": 3
   },
   "file_extension": ".py",
   "mimetype": "text/x-python",
   "name": "python",
   "nbconvert_exporter": "python",
   "pygments_lexer": "ipython3",
   "version": "3.10.8"
  },
  "orig_nbformat": 4,
  "vscode": {
   "interpreter": {
    "hash": "cc2d3b61f1e9e23e3b2650d02a265826715832c8045a8807a8a04cd462939354"
   }
  }
 },
 "nbformat": 4,
 "nbformat_minor": 2
}
